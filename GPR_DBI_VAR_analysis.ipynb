{
  "nbformat": 4,
  "nbformat_minor": 0,
  "metadata": {
    "colab": {
      "provenance": [],
      "authorship_tag": "ABX9TyPR6u/9lrZGCgY8ioBZMruE",
      "include_colab_link": true
    },
    "kernelspec": {
      "name": "python3",
      "display_name": "Python 3"
    },
    "language_info": {
      "name": "python"
    }
  },
  "cells": [
    {
      "cell_type": "markdown",
      "metadata": {
        "id": "view-in-github",
        "colab_type": "text"
      },
      "source": [
        "<a href=\"https://colab.research.google.com/github/abaskon/Thesis/blob/main/GPR_DBI_VAR_analysis.ipynb\" target=\"_parent\"><img src=\"https://colab.research.google.com/assets/colab-badge.svg\" alt=\"Open In Colab\"/></a>"
      ]
    },
    {
      "cell_type": "code",
      "source": [
        "!pip install arch"
      ],
      "metadata": {
        "colab": {
          "base_uri": "https://localhost:8080/"
        },
        "id": "TPzBfofJFXry",
        "outputId": "1bb6433f-82b4-4158-e9e8-c3c0749c3318"
      },
      "execution_count": 2,
      "outputs": [
        {
          "output_type": "stream",
          "name": "stdout",
          "text": [
            "Looking in indexes: https://pypi.org/simple, https://us-python.pkg.dev/colab-wheels/public/simple/\n",
            "Collecting arch\n",
            "  Downloading arch-5.5.0-cp310-cp310-manylinux_2_17_x86_64.manylinux2014_x86_64.whl (918 kB)\n",
            "\u001b[2K     \u001b[90m━━━━━━━━━━━━━━━━━━━━━━━━━━━━━━━━━━━━━━\u001b[0m \u001b[32m918.2/918.2 kB\u001b[0m \u001b[31m12.0 MB/s\u001b[0m eta \u001b[36m0:00:00\u001b[0m\n",
            "\u001b[?25hRequirement already satisfied: numpy>=1.17 in /usr/local/lib/python3.10/dist-packages (from arch) (1.22.4)\n",
            "Requirement already satisfied: scipy>=1.3 in /usr/local/lib/python3.10/dist-packages (from arch) (1.10.1)\n",
            "Requirement already satisfied: pandas>=1.0 in /usr/local/lib/python3.10/dist-packages (from arch) (1.5.3)\n",
            "Requirement already satisfied: statsmodels>=0.11 in /usr/local/lib/python3.10/dist-packages (from arch) (0.13.5)\n",
            "Collecting property-cached>=1.6.4 (from arch)\n",
            "  Downloading property_cached-1.6.4-py2.py3-none-any.whl (7.8 kB)\n",
            "Requirement already satisfied: python-dateutil>=2.8.1 in /usr/local/lib/python3.10/dist-packages (from pandas>=1.0->arch) (2.8.2)\n",
            "Requirement already satisfied: pytz>=2020.1 in /usr/local/lib/python3.10/dist-packages (from pandas>=1.0->arch) (2022.7.1)\n",
            "Requirement already satisfied: patsy>=0.5.2 in /usr/local/lib/python3.10/dist-packages (from statsmodels>=0.11->arch) (0.5.3)\n",
            "Requirement already satisfied: packaging>=21.3 in /usr/local/lib/python3.10/dist-packages (from statsmodels>=0.11->arch) (23.1)\n",
            "Requirement already satisfied: six in /usr/local/lib/python3.10/dist-packages (from patsy>=0.5.2->statsmodels>=0.11->arch) (1.16.0)\n",
            "Installing collected packages: property-cached, arch\n",
            "Successfully installed arch-5.5.0 property-cached-1.6.4\n"
          ]
        }
      ]
    },
    {
      "cell_type": "code",
      "execution_count": 3,
      "metadata": {
        "id": "e7Vr5rvVFHzF"
      },
      "outputs": [],
      "source": [
        "import pandas as pd\n",
        "import matplotlib.pyplot as plt\n",
        "import plotly.graph_objs as go\n",
        "import plotly.express as px\n",
        "import numpy as np\n",
        "from statsmodels.tsa.arima_model import ARIMA\n",
        "import arch\n",
        "from arch import arch_model\n",
        "\n",
        "import pandas as pd\n",
        "import matplotlib.pyplot as plt\n",
        "from sklearn.preprocessing import MinMaxScaler\n",
        "\n"
      ]
    },
    {
      "cell_type": "code",
      "source": [
        "dbi1 = pd.read_csv(\"https://raw.githubusercontent.com/abaskon/Thesis/main/Data/DBI1985-2004.csv\")\n",
        "dbi2 = pd.read_csv(\"https://raw.githubusercontent.com/abaskon/Thesis/main/Data/DBI2004-today.csv\")\n",
        "\n",
        "dbi1['Price'] = dbi1['Price'].str.replace(',', '').astype(float)\n",
        "dbi2['Price'] = dbi2['Price'].str.replace(',', '').astype(float)\n",
        "\n",
        "GPR = pd.read_csv(\"https://raw.githubusercontent.com/abaskon/Thesis/main/Data/data_gpr_daily_recent.csv\")\n",
        "GPRE = pd.read_csv(\"https://raw.githubusercontent.com/abaskon/Thesis/main/Data/data_gpr_export.csv\")\n",
        "\n",
        "GPR['GPRD'] = GPR['GPRD'].str.replace(',', '').astype(float)"
      ],
      "metadata": {
        "id": "yA7o9vVvFMXZ"
      },
      "execution_count": 4,
      "outputs": []
    }
  ]
}